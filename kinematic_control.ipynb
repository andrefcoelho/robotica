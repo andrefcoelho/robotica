{
  "nbformat": 4,
  "nbformat_minor": 0,
  "metadata": {
    "colab": {
      "name": "kinematic_control.ipynb",
      "provenance": [],
      "toc_visible": true,
      "authorship_tag": "ABX9TyOphRlMMCE9CBpdSBeT64wj",
      "include_colab_link": true
    },
    "kernelspec": {
      "name": "python3",
      "display_name": "Python 3"
    },
    "language_info": {
      "name": "python"
    }
  },
  "cells": [
    {
      "cell_type": "markdown",
      "metadata": {
        "id": "view-in-github",
        "colab_type": "text"
      },
      "source": [
        "<a href=\"https://colab.research.google.com/github/andrefcoelho/robotica/blob/main/kinematic_control.ipynb\" target=\"_parent\"><img src=\"https://colab.research.google.com/assets/colab-badge.svg\" alt=\"Open In Colab\"/></a>"
      ]
    },
    {
      "cell_type": "code",
      "metadata": {
        "id": "NZUW2nCS-25X"
      },
      "source": [
        "import numpy as np\n",
        "import math"
      ],
      "execution_count": null,
      "outputs": []
    },
    {
      "cell_type": "code",
      "metadata": {
        "colab": {
          "base_uri": "https://localhost:8080/"
        },
        "id": "Kn4XYFgdtYc0",
        "outputId": "e9bf2f0a-a12e-40ba-c020-6042cf822e1a"
      },
      "source": [
        "\n",
        "#parameters\n",
        "dt=1e-3; #sampling time\n",
        "tf=10;  #final time\n",
        "x0=10;  #initial value\n",
        "k=1;   #controller gain\n",
        "\n",
        "t=np.arange(0,tf,dt)\n",
        "X=np.zeros(len(t))\n",
        "X[0]=x0 \n",
        "\n",
        "print('initial value:', X[0])\n",
        "\n",
        "for i in range(1,len(X)):\n",
        "\tv=-k*X[i-1];\n",
        "\tX[i]=X[i-1]+dt*v;\n",
        "print('final value:',X[i])\n"
      ],
      "execution_count": null,
      "outputs": [
        {
          "output_type": "stream",
          "name": "stdout",
          "text": [
            "initial value: 10.0\n",
            "final value: 0.0004521856454159011\n"
          ]
        }
      ]
    },
    {
      "cell_type": "code",
      "metadata": {
        "colab": {
          "base_uri": "https://localhost:8080/",
          "height": 281
        },
        "id": "LvH81YCXtmA5",
        "outputId": "ffd5e24a-62be-4767-ebf8-bb358321f257"
      },
      "source": [
        "from matplotlib import pyplot as plt\n",
        "\n",
        "\n",
        "plt.plot(t, X, '-')\n",
        "\n",
        "plt.title(\"point-mass position\")\n",
        "plt.ylim(0, 10)\n",
        "plt.grid()\n",
        "plt.show()"
      ],
      "execution_count": null,
      "outputs": [
        {
          "output_type": "display_data",
          "data": {
            "image/png": "[encoded data removed]",
            "text/plain": [
              "<Figure size 432x288 with 1 Axes>"
            ]
          },
          "metadata": {
            "needs_background": "light"
          }
        }
      ]
    }
  ]
}